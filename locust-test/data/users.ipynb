{
 "cells": [
  {
   "cell_type": "code",
   "execution_count": 2,
   "id": "6501e7fe",
   "metadata": {},
   "outputs": [],
   "source": [
    "from faker import Faker"
   ]
  },
  {
   "cell_type": "code",
   "execution_count": 3,
   "id": "c37ec2f2",
   "metadata": {},
   "outputs": [],
   "source": [
    "fake = Faker()"
   ]
  },
  {
   "cell_type": "code",
   "execution_count": 5,
   "id": "8709663d",
   "metadata": {},
   "outputs": [],
   "source": [
    "users = []\n",
    "for i in range(10001, 500000):\n",
    "    users.append([i, fake.unique.user_name(), fake.unique.email(), fake.sentence()])"
   ]
  },
  {
   "cell_type": "code",
   "execution_count": 6,
   "id": "9431def9",
   "metadata": {},
   "outputs": [],
   "source": [
    "import pandas as pd"
   ]
  },
  {
   "cell_type": "code",
   "execution_count": 7,
   "id": "1433c515",
   "metadata": {},
   "outputs": [
    {
     "data": {
      "text/html": [
       "<div>\n",
       "<style scoped>\n",
       "    .dataframe tbody tr th:only-of-type {\n",
       "        vertical-align: middle;\n",
       "    }\n",
       "\n",
       "    .dataframe tbody tr th {\n",
       "        vertical-align: top;\n",
       "    }\n",
       "\n",
       "    .dataframe thead th {\n",
       "        text-align: right;\n",
       "    }\n",
       "</style>\n",
       "<table border=\"1\" class=\"dataframe\">\n",
       "  <thead>\n",
       "    <tr style=\"text-align: right;\">\n",
       "      <th></th>\n",
       "      <th>id</th>\n",
       "      <th>username</th>\n",
       "      <th>email</th>\n",
       "      <th>status_message</th>\n",
       "    </tr>\n",
       "  </thead>\n",
       "  <tbody>\n",
       "    <tr>\n",
       "      <th>0</th>\n",
       "      <td>10001</td>\n",
       "      <td>taranorris</td>\n",
       "      <td>uwilliams@example.com</td>\n",
       "      <td>Until service scene.</td>\n",
       "    </tr>\n",
       "    <tr>\n",
       "      <th>1</th>\n",
       "      <td>10002</td>\n",
       "      <td>joanne53</td>\n",
       "      <td>jose81@example.org</td>\n",
       "      <td>Throughout increase you challenge.</td>\n",
       "    </tr>\n",
       "    <tr>\n",
       "      <th>2</th>\n",
       "      <td>10003</td>\n",
       "      <td>xrusso</td>\n",
       "      <td>michael60@example.net</td>\n",
       "      <td>Small road eat service cell four.</td>\n",
       "    </tr>\n",
       "    <tr>\n",
       "      <th>3</th>\n",
       "      <td>10004</td>\n",
       "      <td>dennis49</td>\n",
       "      <td>ijordan@example.org</td>\n",
       "      <td>Value leave responsibility hear ago tax forwar...</td>\n",
       "    </tr>\n",
       "    <tr>\n",
       "      <th>4</th>\n",
       "      <td>10005</td>\n",
       "      <td>madisonramos</td>\n",
       "      <td>andrewknight@example.org</td>\n",
       "      <td>Pressure my time security kid.</td>\n",
       "    </tr>\n",
       "    <tr>\n",
       "      <th>...</th>\n",
       "      <td>...</td>\n",
       "      <td>...</td>\n",
       "      <td>...</td>\n",
       "      <td>...</td>\n",
       "    </tr>\n",
       "    <tr>\n",
       "      <th>489994</th>\n",
       "      <td>499995</td>\n",
       "      <td>serranorobin</td>\n",
       "      <td>ivan80@example.net</td>\n",
       "      <td>Bank model recently building fire prove billio...</td>\n",
       "    </tr>\n",
       "    <tr>\n",
       "      <th>489995</th>\n",
       "      <td>499996</td>\n",
       "      <td>greersheena</td>\n",
       "      <td>jamesmccall@example.net</td>\n",
       "      <td>Father reflect difficult eight.</td>\n",
       "    </tr>\n",
       "    <tr>\n",
       "      <th>489996</th>\n",
       "      <td>499997</td>\n",
       "      <td>conniemann</td>\n",
       "      <td>carterallison@example.com</td>\n",
       "      <td>Summer buy as people.</td>\n",
       "    </tr>\n",
       "    <tr>\n",
       "      <th>489997</th>\n",
       "      <td>499998</td>\n",
       "      <td>gallowaybradley</td>\n",
       "      <td>choikaren@example.net</td>\n",
       "      <td>Involve book show position far appear trouble ...</td>\n",
       "    </tr>\n",
       "    <tr>\n",
       "      <th>489998</th>\n",
       "      <td>499999</td>\n",
       "      <td>gilberthelen</td>\n",
       "      <td>gonzalezleah@example.org</td>\n",
       "      <td>Trial too create hand write simple.</td>\n",
       "    </tr>\n",
       "  </tbody>\n",
       "</table>\n",
       "<p>489999 rows × 4 columns</p>\n",
       "</div>"
      ],
      "text/plain": [
       "            id         username                      email  \\\n",
       "0        10001       taranorris      uwilliams@example.com   \n",
       "1        10002         joanne53         jose81@example.org   \n",
       "2        10003           xrusso      michael60@example.net   \n",
       "3        10004         dennis49        ijordan@example.org   \n",
       "4        10005     madisonramos   andrewknight@example.org   \n",
       "...        ...              ...                        ...   \n",
       "489994  499995     serranorobin         ivan80@example.net   \n",
       "489995  499996      greersheena    jamesmccall@example.net   \n",
       "489996  499997       conniemann  carterallison@example.com   \n",
       "489997  499998  gallowaybradley      choikaren@example.net   \n",
       "489998  499999     gilberthelen   gonzalezleah@example.org   \n",
       "\n",
       "                                           status_message  \n",
       "0                                    Until service scene.  \n",
       "1                      Throughout increase you challenge.  \n",
       "2                       Small road eat service cell four.  \n",
       "3       Value leave responsibility hear ago tax forwar...  \n",
       "4                          Pressure my time security kid.  \n",
       "...                                                   ...  \n",
       "489994  Bank model recently building fire prove billio...  \n",
       "489995                    Father reflect difficult eight.  \n",
       "489996                              Summer buy as people.  \n",
       "489997  Involve book show position far appear trouble ...  \n",
       "489998                Trial too create hand write simple.  \n",
       "\n",
       "[489999 rows x 4 columns]"
      ]
     },
     "execution_count": 7,
     "metadata": {},
     "output_type": "execute_result"
    }
   ],
   "source": [
    "users = pd.DataFrame(users, columns=[\"id\", \"username\", \"email\", \"status_message\"])\n",
    "users"
   ]
  },
  {
   "cell_type": "code",
   "execution_count": 8,
   "id": "710a2e4c",
   "metadata": {},
   "outputs": [],
   "source": [
    "users.to_csv(\"users.csv\", index=False)"
   ]
  }
 ],
 "metadata": {
  "kernelspec": {
   "display_name": "Python 3",
   "language": "python",
   "name": "python3"
  },
  "language_info": {
   "codemirror_mode": {
    "name": "ipython",
    "version": 3
   },
   "file_extension": ".py",
   "mimetype": "text/x-python",
   "name": "python",
   "nbconvert_exporter": "python",
   "pygments_lexer": "ipython3",
   "version": "3.13.1"
  }
 },
 "nbformat": 4,
 "nbformat_minor": 5
}
