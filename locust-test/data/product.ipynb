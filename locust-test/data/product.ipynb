{
 "cells": [
  {
   "cell_type": "code",
   "execution_count": 1,
   "id": "6501e7fe",
   "metadata": {},
   "outputs": [],
   "source": [
    "from faker import Faker\n",
    "import random"
   ]
  },
  {
   "cell_type": "code",
   "execution_count": 2,
   "id": "c37ec2f2",
   "metadata": {},
   "outputs": [],
   "source": [
    "fake = Faker()"
   ]
  },
  {
   "cell_type": "code",
   "execution_count": 3,
   "id": "8709663d",
   "metadata": {},
   "outputs": [],
   "source": [
    "products = []\n",
    "for i in range(10001, 500000):\n",
    "    products.append([i, fake.unique.user_name(), random.randint(10000, 50000)])"
   ]
  },
  {
   "cell_type": "code",
   "execution_count": 4,
   "id": "9431def9",
   "metadata": {},
   "outputs": [],
   "source": [
    "import pandas as pd"
   ]
  },
  {
   "cell_type": "code",
   "execution_count": 5,
   "id": "1433c515",
   "metadata": {},
   "outputs": [
    {
     "data": {
      "text/html": [
       "<div>\n",
       "<style scoped>\n",
       "    .dataframe tbody tr th:only-of-type {\n",
       "        vertical-align: middle;\n",
       "    }\n",
       "\n",
       "    .dataframe tbody tr th {\n",
       "        vertical-align: top;\n",
       "    }\n",
       "\n",
       "    .dataframe thead th {\n",
       "        text-align: right;\n",
       "    }\n",
       "</style>\n",
       "<table border=\"1\" class=\"dataframe\">\n",
       "  <thead>\n",
       "    <tr style=\"text-align: right;\">\n",
       "      <th></th>\n",
       "      <th>id</th>\n",
       "      <th>name</th>\n",
       "      <th>price</th>\n",
       "    </tr>\n",
       "  </thead>\n",
       "  <tbody>\n",
       "    <tr>\n",
       "      <th>0</th>\n",
       "      <td>10001</td>\n",
       "      <td>turnersarah</td>\n",
       "      <td>28333</td>\n",
       "    </tr>\n",
       "    <tr>\n",
       "      <th>1</th>\n",
       "      <td>10002</td>\n",
       "      <td>taylor73</td>\n",
       "      <td>26759</td>\n",
       "    </tr>\n",
       "    <tr>\n",
       "      <th>2</th>\n",
       "      <td>10003</td>\n",
       "      <td>vbridges</td>\n",
       "      <td>35111</td>\n",
       "    </tr>\n",
       "    <tr>\n",
       "      <th>3</th>\n",
       "      <td>10004</td>\n",
       "      <td>bowensuzanne</td>\n",
       "      <td>39247</td>\n",
       "    </tr>\n",
       "    <tr>\n",
       "      <th>4</th>\n",
       "      <td>10005</td>\n",
       "      <td>williamscott</td>\n",
       "      <td>18084</td>\n",
       "    </tr>\n",
       "    <tr>\n",
       "      <th>...</th>\n",
       "      <td>...</td>\n",
       "      <td>...</td>\n",
       "      <td>...</td>\n",
       "    </tr>\n",
       "    <tr>\n",
       "      <th>489994</th>\n",
       "      <td>499995</td>\n",
       "      <td>waltersantiago</td>\n",
       "      <td>48249</td>\n",
       "    </tr>\n",
       "    <tr>\n",
       "      <th>489995</th>\n",
       "      <td>499996</td>\n",
       "      <td>destinyhess</td>\n",
       "      <td>29510</td>\n",
       "    </tr>\n",
       "    <tr>\n",
       "      <th>489996</th>\n",
       "      <td>499997</td>\n",
       "      <td>pittmanmelanie</td>\n",
       "      <td>39675</td>\n",
       "    </tr>\n",
       "    <tr>\n",
       "      <th>489997</th>\n",
       "      <td>499998</td>\n",
       "      <td>mcintyrechristina</td>\n",
       "      <td>46599</td>\n",
       "    </tr>\n",
       "    <tr>\n",
       "      <th>489998</th>\n",
       "      <td>499999</td>\n",
       "      <td>mccannsara</td>\n",
       "      <td>36828</td>\n",
       "    </tr>\n",
       "  </tbody>\n",
       "</table>\n",
       "<p>489999 rows × 3 columns</p>\n",
       "</div>"
      ],
      "text/plain": [
       "            id               name  price\n",
       "0        10001        turnersarah  28333\n",
       "1        10002           taylor73  26759\n",
       "2        10003           vbridges  35111\n",
       "3        10004       bowensuzanne  39247\n",
       "4        10005       williamscott  18084\n",
       "...        ...                ...    ...\n",
       "489994  499995     waltersantiago  48249\n",
       "489995  499996        destinyhess  29510\n",
       "489996  499997     pittmanmelanie  39675\n",
       "489997  499998  mcintyrechristina  46599\n",
       "489998  499999         mccannsara  36828\n",
       "\n",
       "[489999 rows x 3 columns]"
      ]
     },
     "execution_count": 5,
     "metadata": {},
     "output_type": "execute_result"
    }
   ],
   "source": [
    "products = pd.DataFrame(products, columns=[\"id\", \"name\", \"price\"])\n",
    "products"
   ]
  },
  {
   "cell_type": "code",
   "execution_count": 6,
   "id": "710a2e4c",
   "metadata": {},
   "outputs": [],
   "source": [
    "products.to_csv(\"products.csv\", index=False)"
   ]
  }
 ],
 "metadata": {
  "kernelspec": {
   "display_name": "Python 3",
   "language": "python",
   "name": "python3"
  },
  "language_info": {
   "codemirror_mode": {
    "name": "ipython",
    "version": 3
   },
   "file_extension": ".py",
   "mimetype": "text/x-python",
   "name": "python",
   "nbconvert_exporter": "python",
   "pygments_lexer": "ipython3",
   "version": "3.13.1"
  }
 },
 "nbformat": 4,
 "nbformat_minor": 5
}
